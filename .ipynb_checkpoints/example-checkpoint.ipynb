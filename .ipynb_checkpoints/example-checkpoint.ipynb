{
 "cells": [
  {
   "cell_type": "code",
   "execution_count": 1,
   "metadata": {},
   "outputs": [
    {
     "name": "stderr",
     "output_type": "stream",
     "text": [
      "2022-06-05 15:23:22.669020: W tensorflow/stream_executor/platform/default/dso_loader.cc:64] Could not load dynamic library 'libcudart.so.11.0'; dlerror: libcudart.so.11.0: cannot open shared object file: No such file or directory; LD_LIBRARY_PATH: /usr/local/nvidia/lib64:/usr/local/cuda/lib64\n",
      "2022-06-05 15:23:22.669063: I tensorflow/stream_executor/cuda/cudart_stub.cc:29] Ignore above cudart dlerror if you do not have a GPU set up on your machine.\n"
     ]
    }
   ],
   "source": [
    "# Importing all the dependencies\n",
    "import sys\n",
    "#importing factors and coefficients obtained from the 2step inference model\n",
    "sys.path.append('./helpers/')\n",
    "from model_simulation import *\n",
    "#Tensorflow will be used to make the convolutional 2D layers\n",
    "import tensorflow as tf\n",
    "# spike and stimulus data is in numpy arrays, so numpy is needed \n",
    "import numpy as np\n",
    "# Raw data has been stored in pickle files, must be unpickled\n",
    "import pickle5 as pkl\n",
    "# Required for spike train visualization \n",
    "from matplotlib import pyplot as plt\n",
    "%matplotlib inline"
   ]
  },
  {
   "cell_type": "code",
   "execution_count": 2,
   "metadata": {},
   "outputs": [
    {
     "name": "stdout",
     "output_type": "stream",
     "text": [
      "{'spikes': array([[[0, 0, 0, ..., 0, 0, 0],\n",
      "        [0, 0, 0, ..., 0, 0, 0],\n",
      "        [0, 0, 0, ..., 0, 0, 0],\n",
      "        ...,\n",
      "        [0, 0, 0, ..., 0, 0, 0],\n",
      "        [0, 0, 0, ..., 0, 0, 0],\n",
      "        [0, 0, 0, ..., 0, 0, 0]],\n",
      "\n",
      "       [[0, 0, 0, ..., 1, 0, 0],\n",
      "        [0, 0, 0, ..., 0, 0, 0],\n",
      "        [0, 0, 0, ..., 0, 0, 0],\n",
      "        ...,\n",
      "        [0, 0, 0, ..., 0, 0, 0],\n",
      "        [0, 0, 0, ..., 0, 0, 1],\n",
      "        [0, 0, 0, ..., 0, 0, 0]],\n",
      "\n",
      "       [[0, 0, 0, ..., 0, 0, 0],\n",
      "        [0, 0, 0, ..., 0, 0, 0],\n",
      "        [0, 0, 0, ..., 0, 0, 0],\n",
      "        ...,\n",
      "        [0, 0, 0, ..., 0, 0, 0],\n",
      "        [0, 0, 0, ..., 0, 0, 0],\n",
      "        [0, 0, 0, ..., 0, 0, 0]],\n",
      "\n",
      "       [[0, 0, 0, ..., 0, 0, 0],\n",
      "        [0, 0, 0, ..., 0, 0, 0],\n",
      "        [0, 0, 0, ..., 0, 0, 0],\n",
      "        ...,\n",
      "        [0, 0, 0, ..., 0, 0, 0],\n",
      "        [0, 0, 0, ..., 0, 0, 0],\n",
      "        [0, 0, 0, ..., 0, 0, 0]],\n",
      "\n",
      "       [[0, 0, 0, ..., 0, 0, 0],\n",
      "        [0, 0, 0, ..., 0, 0, 0],\n",
      "        [0, 0, 0, ..., 0, 0, 0],\n",
      "        ...,\n",
      "        [0, 0, 0, ..., 0, 0, 0],\n",
      "        [0, 0, 0, ..., 0, 0, 0],\n",
      "        [0, 0, 0, ..., 0, 0, 0]],\n",
      "\n",
      "       [[0, 0, 0, ..., 0, 0, 0],\n",
      "        [0, 0, 0, ..., 0, 0, 0],\n",
      "        [0, 0, 0, ..., 0, 0, 0],\n",
      "        ...,\n",
      "        [0, 0, 0, ..., 0, 0, 0],\n",
      "        [0, 0, 0, ..., 0, 0, 0],\n",
      "        [0, 0, 0, ..., 0, 0, 0]]], dtype=uint8), 'stimulus': array([[[0, 0, 0, ..., 0, 0, 0]],\n",
      "\n",
      "       [[0, 0, 0, ..., 0, 0, 0]],\n",
      "\n",
      "       [[0, 0, 0, ..., 0, 0, 0]],\n",
      "\n",
      "       ...,\n",
      "\n",
      "       [[0, 0, 0, ..., 0, 0, 0]],\n",
      "\n",
      "       [[0, 0, 0, ..., 0, 0, 0]],\n",
      "\n",
      "       [[0, 0, 0, ..., 0, 0, 0]]], dtype=uint8)}\n"
     ]
    }
   ],
   "source": [
    "# Testing data must have the following format\n",
    "# stimulus: (nx, ny, nt_test, 1) where\n",
    "#nx and ny are the spatial dimensions and nt_test is the number of time frames (each time frame being 1,67ms)\n",
    "# spikes: (n_cells, nt_test, n_rep_test) where \n",
    "# n_cells is the number of neurons, nt_test is the number of time frames (each time frame being 1,67ms), and \n",
    "#n_rep_test is the number of stimulus repeats.\n",
    "# Load testing dataset\n",
    "with open('data/' + 'data_bars_OFF_repeated' + '.pkl', 'rb') as f:\n",
    "    data_test = pkl.load(f)\n",
    "    \n",
    "#lets view the data\n",
    "print(data_test)     "
   ]
  },
  {
   "cell_type": "code",
   "execution_count": 15,
   "metadata": {},
   "outputs": [
    {
     "name": "stdout",
     "output_type": "stream",
     "text": [
      "Testing data:\n",
      " stimulus shape: (31, 1, 2000)\n",
      " spikes shape: (6, 2000, 54)\n"
     ]
    },
    {
     "data": {
      "text/plain": [
       "(6, 2000, 54)"
      ]
     },
     "execution_count": 15,
     "metadata": {},
     "output_type": "execute_result"
    }
   ],
   "source": [
    "#data is a dictionary consisting of 2 keys: spikes and stimulus. Assigning the arrays in each key to 2 different variables:\n",
    "spikes_test = data_test['spikes']\n",
    "stimulus_test = data_test['stimulus']\n",
    "#In order to look at the spike rates for a given stimulus we need to\n",
    "#keep the number of time frames for spike and stimulus constant. \n",
    "#To do so as well as reduce required run time, we can limit the number of time frames to to 2000.\n",
    "spikes_test = spikes_test[:,:2000,:]\n",
    "stimulus_test = stimulus_test[:,:,:2000]\n",
    "\n",
    "#Now to look at the shape of the stimulus and spikes: \n",
    "\n",
    "print(f'Testing data:\\n',\n",
    "    f'stimulus shape: {stimulus_test.shape}\\n',\n",
    "      f'spikes shape: {spikes_test.shape}')\n",
    "spikes_test.shape\n"
   ]
  },
  {
   "cell_type": "code",
   "execution_count": 16,
   "metadata": {},
   "outputs": [
    {
     "name": "stdout",
     "output_type": "stream",
     "text": [
      "(31, 2000)\n",
      "[0 0 0 ... 0 0 0]\n"
     ]
    }
   ],
   "source": [
    "#Visualizing the stimulus \n",
    "#Assign the spatial dimensions as well as number of time frames to the respective dimensions in the \n",
    "#stimulus test variable\n",
    "nx, ny, nt_test = stimulus_test.shape\n",
    "#To create a 2D image, the spatial dimensions must be multiplied. Creating a modified stimulus variable for \n",
    "#image visualization\n",
    "stimulus_test = np.reshape(stimulus_test, [nx*ny, nt_test], order='F')\n",
    "#This new stimulus variable should only have 2 dimensions; the spatial dimensions and the number of time frames.\n",
    "#confirming this:\n",
    "print(stimulus_test.shape)\n",
    "print(stimulus_test[1])"
   ]
  },
  {
   "cell_type": "code",
   "execution_count": 18,
   "metadata": {},
   "outputs": [
    {
     "data": {
      "text/plain": [
       "Text(0, 0.5, 'spatial dimensions')"
      ]
     },
     "execution_count": 18,
     "metadata": {},
     "output_type": "execute_result"
    },
    {
     "data": {
      "image/png": "[encoded data removed]",
      "text/plain": [
       "<Figure size 432x288 with 1 Axes>"
      ]
     },
     "metadata": {
      "needs_background": "light"
     },
     "output_type": "display_data"
    }
   ],
   "source": [
    "#We can now use Matplotlib feature imshow to graph the image. Keep in mind the fact that the stimulus is \n",
    "#white noise, so the stimulus can only be in black and white. \n",
    "plt.imshow(stimulus_test, aspect = 'auto',cmap='Greys',  interpolation='nearest')\n",
    "plt.xlabel(\"time(seconds)\")\n",
    "plt.ylabel(\"spatial dimensions\")"
   ]
  },
  {
   "cell_type": "code",
   "execution_count": 19,
   "metadata": {},
   "outputs": [
    {
     "data": {
      "text/plain": [
       "Text(0.5, 0, 'time (ms)')"
      ]
     },
     "execution_count": 19,
     "metadata": {},
     "output_type": "execute_result"
    },
    {
     "data": {
      "image/png": "[encoded data removed]",
      "text/plain": [
       "<Figure size 432x288 with 1 Axes>"
      ]
     },
     "metadata": {
      "needs_background": "light"
     },
     "output_type": "display_data"
    }
   ],
   "source": [
    "# Now to visualize the spikes, we will create a raster plot. The data given to us is the binary spike train data where \n",
    "# Each time frame is 1.67ms \n",
    "n_cells, nt_test, n_rep_test = spikes_test.shape\n",
    "#Each time frame is a bin, and each bin is 1.67ms.\n",
    "bin_size = 1.67\n",
    "rasters = []\n",
    "#The spike variable contains spike train data for each cell.\n",
    "#To visualize the data for each individual cell, we must create a for loop where for each cell\n",
    "#every time bin is multiplied by the bin size to get the spikes over time, and for each cell the details of \n",
    "#each spike is stored in a list of lists (rasters) and each list within it represents the spikes for one cell.\n",
    "for i_cell in range(n_cells):\n",
    "    raster_icell = []\n",
    "    for i_rep in range(n_rep_test):\n",
    "        raster_icell +=[list(np.where(spikes_test[i_cell,:,i_rep] ==1)[0]*bin_size)]\n",
    "    rasters += [raster_icell]\n",
    "#Choose the cell\n",
    "i_cell = 2\n",
    "#We plot a raster plot using matplotlib's eventplot, a tool which plots identical parallel lines for each spike. \n",
    "plt.eventplot(rasters[i_cell])\n",
    "plt.ylabel('repeats')\n",
    "plt.xlabel('time (ms)')"
   ]
  },
  {
   "cell_type": "code",
   "execution_count": 20,
   "metadata": {},
   "outputs": [],
   "source": [
    "#Next, we are finally going to apply our 2step GLM model on our data to obtain a PSTH.\n",
    "# First we are going to load the coupling, time, and neuron activation constants saved during the training of \n",
    "# the 2 step model. \n",
    "\n",
    "path_filters = './model_filters/Int/'\n",
    "with open(path_filters+'filters.pkl', 'rb') as f:\n",
    "    (bias_list, stimulus_fields, coupl_filters, self_filters, tau_r_list) = pkl.load(f)\n",
    "\n",
    "# Load linear-nonlinear filters as well\n",
    "path_filters = './model_filters/LN/'\n",
    "with open(path_filters+'filters.pkl', 'rb') as f:\n",
    "    (stim_filters, bias_list) = pkl.load(f)"
   ]
  },
  {
   "cell_type": "code",
   "execution_count": 21,
   "metadata": {},
   "outputs": [
    {
     "name": "stdout",
     "output_type": "stream",
     "text": [
      "10 repetitions done\n",
      "20 repetitions done\n",
      "30 repetitions done\n",
      "40 repetitions done\n",
      "50 repetitions done\n"
     ]
    }
   ],
   "source": [
    "n_rep_sim = 50\n",
    "\n",
    "#  Classifyfing some coupling parameters and their relation to the number of time frames simulated. \n",
    "nt_integ_stim = stim_filters[0].shape[1]\n",
    "nt_integ_int = np.max([coupl_filters[0].shape[1],self_filters[0].shape[1]])\n",
    "nt_sim = nt_test - nt_integ_stim - nt_integ_int\n",
    "\n",
    "# We then use a 2D convolutional model to identify stimulus potential \n",
    "stim = stimulus_test[np.newaxis,:,:, np.newaxis]-0.5\n",
    "h_stim = np.zeros((n_cells, nt_sim+nt_integ_int))\n",
    "for cell in range(n_cells):\n",
    "    h_temp = tf.nn.conv2d(stim, stim_filters[cell], strides=1, padding='VALID')\n",
    "    h_stim[cell,:] = h_temp.numpy().squeeze()[:-1]+bias_list[cell]\n",
    "\n",
    "# Finally, we use the stimulus potential combined with the coupling parameters, number of repetitions and the \n",
    "#simulted number of time frames to predict change in firing rates over time. \n",
    "spikes_sim =  np.zeros((n_cells, nt_sim+nt_integ_int, n_rep_sim))\n",
    "for rep in range(n_rep_sim):\n",
    "    if (rep+1)%10==0: print(f'{rep+1} repetitions done')\n",
    "    for t in range(nt_sim):\n",
    "        h_past = h_stim[:,t:t+nt_integ_int]\n",
    "        spikes_past = spikes_sim[:,t:t+nt_integ_int, rep]\n",
    "        h_int = interaction_potential_2steps(h_past, spikes_past, coupl_filters, self_filters, tau_r_list)\n",
    "        \n",
    "        # Use an exponential function to model stimulus nonlinearity and predict firing rate\n",
    "        lbdt = np.exp(h_int + h_stim[:,t])\n",
    "        \n",
    "        #Keeping refractory period in mind for each cell (no spikes can occur for a certain time after a spike)\n",
    "        for cell in range(n_cells):\n",
    "            if np.sum(spikes_sim[cell,nt_integ_int+t-tau_r_list[cell]:nt_integ_int+t, rep])>0:\n",
    "                lbdt[cell] = 0\n",
    "        \n",
    "        spikes_t = np.random.rand(n_cells)<lbdt\n",
    "        spikes_sim[:,nt_integ_int+t, rep] = spikes_t.astype('int')\n",
    "\n",
    "spikes_2steps = spikes_sim[:,nt_integ_int:,:]"
   ]
  },
  {
   "cell_type": "code",
   "execution_count": 22,
   "metadata": {},
   "outputs": [
    {
     "data": {
      "image/png": "[encoded data removed]",
      "text/plain": [
       "<Figure size 432x288 with 1 Axes>"
      ]
     },
     "metadata": {
      "needs_background": "light"
     },
     "output_type": "display_data"
    }
   ],
   "source": [
    "#Using a 2D convolutional model, we are able to plot a PSTH for each cell. wdw is a noise filter. \n",
    "smooth = lambda x, wdw : np.convolve(x, np.ones(wdw)/wdw)\n",
    "wdw = 10\n",
    "\n",
    "cell = 0\n",
    "\n",
    "plt.plot(smooth(np.mean(spikes_2steps[cell,:,:], 1), wdw)*1000/1.667)\n",
    "plt.plot(smooth(np.mean(spikes_test[cell,nt_integ_stim+nt_integ_int:,:], 1), wdw)*1000/1.667)\n",
    "plt.xlabel('Time (s)')\n",
    "plt.ylabel('Firing rate (Hz)')\n",
    "plt.show()"
   ]
  }
 ],
 "metadata": {
  "kernelspec": {
   "display_name": "Python 3 (ipykernel)",
   "language": "python",
   "name": "python3"
  },
  "language_info": {
   "codemirror_mode": {
    "name": "ipython",
    "version": 3
   },
   "file_extension": ".py",
   "mimetype": "text/x-python",
   "name": "python",
   "nbconvert_exporter": "python",
   "pygments_lexer": "ipython3",
   "version": "3.9.5"
  }
 },
 "nbformat": 4,
 "nbformat_minor": 4
}

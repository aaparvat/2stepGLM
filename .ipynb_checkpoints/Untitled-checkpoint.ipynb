{
 "cells": [
  {
   "cell_type": "code",
   "execution_count": 1,
   "id": "6ef64206",
   "metadata": {},
   "outputs": [
    {
     "name": "stderr",
     "output_type": "stream",
     "text": [
      "2022-06-03 12:11:55.886310: W tensorflow/stream_executor/platform/default/dso_loader.cc:64] Could not load dynamic library 'libcudart.so.11.0'; dlerror: libcudart.so.11.0: cannot open shared object file: No such file or directory; LD_LIBRARY_PATH: /usr/local/nvidia/lib64:/usr/local/cuda/lib64\n",
      "2022-06-03 12:11:55.886336: I tensorflow/stream_executor/cuda/cudart_stub.cc:29] Ignore above cudart dlerror if you do not have a GPU set up on your machine.\n"
     ]
    }
   ],
   "source": [
    "# Dependencies\n",
    "import sys\n",
    "sys.path.append('./helpers/')\n",
    "\n",
    "from model_simulation import *\n",
    "import pandas as pd\n",
    "import numpy as np\n",
    "import tensorflow as tf\n",
    "import pickle5 as pkl\n",
    "from matplotlib import pyplot as plt\n",
    "%matplotlib inline\n",
    "from scipy.io import loadmat\n",
    "from scipy.interpolate import interp1d"
   ]
  },
  {
   "cell_type": "code",
   "execution_count": 2,
   "id": "9522a63b",
   "metadata": {},
   "outputs": [
    {
     "name": "stdout",
     "output_type": "stream",
     "text": [
      "length of stimulus: (144000, 100)\n"
     ]
    }
   ],
   "source": [
    "### ====  1. Load the raw data ============\n",
    "datadir = 'rgcData_Nature08/'\n",
    "stim = np.squeeze(loadmat(f'{datadir}Stim_reduced.mat')['Stim']) # contains stimulus value at each frame \n",
    "mat = [np.squeeze(x) for x in np.squeeze(loadmat(f'{datadir}MtspRGCrpt.mat')['MtspRGCrpt'])]\n",
    "all_spike_times = [np.squeeze(x) for x in np.squeeze(loadmat(f'{datadir}SpTimesRGC.mat')['SpTimes'])] # time of spikes for 4 neurons (in units of stim frames)\n",
    "stimrep = np.squeeze(loadmat(f'{datadir}Stim_reducedRpt.mat')['Stim'])\n",
    "datadir = 'GLMspiketraintutorial_python/data_RGCs/'\n",
    "stim_times = np.squeeze(loadmat(f'{datadir}stimtimes.mat')['stimtimes']) # contains time in seconds at each frame (120 Hz)\n",
    "print(f'length of stimulus: {stim.shape}')"
   ]
  },
  {
   "cell_type": "code",
   "execution_count": 3,
   "id": "c3c6c3d1",
   "metadata": {},
   "outputs": [
    {
     "name": "stdout",
     "output_type": "stream",
     "text": [
      "(27,)\n"
     ]
    },
    {
     "name": "stderr",
     "output_type": "stream",
     "text": [
      "/tmp/ipykernel_818/1324565512.py:2: VisibleDeprecationWarning: Creating an ndarray from ragged nested sequences (which is a list-or-tuple of lists-or-tuples-or ndarrays with different lengths or shapes) is deprecated. If you meant to do this, you must specify 'dtype=object' when creating the ndarray.\n",
      "  all_spike_times = np.array(all_spike_times)\n"
     ]
    },
    {
     "data": {
      "image/png": "[encoded data removed]",
      "text/plain": [
       "<Figure size 432x288 with 1 Axes>"
      ]
     },
     "metadata": {
      "needs_background": "light"
     },
     "output_type": "display_data"
    }
   ],
   "source": [
    "plt.imshow(stim, aspect= \"auto\", interpolation='nearest', origin='lower')\n",
    "all_spike_times = np.array(all_spike_times)\n",
    "print(all_spike_times.shape)"
   ]
  },
  {
   "cell_type": "code",
   "execution_count": 6,
   "id": "3ca71096",
   "metadata": {},
   "outputs": [
    {
     "name": "stdout",
     "output_type": "stream",
     "text": [
      "[array([1, 0, 0, ..., 0, 0, 1]), array([2, 0, 0, ..., 2, 1, 1]), array([2, 2, 0, ..., 0, 1, 1]), array([2, 0, 1, ..., 0, 0, 2]), array([1, 1, 0, ..., 0, 0, 1]), array([1, 0, 0, ..., 1, 1, 1]), array([1, 0, 0, ..., 0, 0, 1]), array([1, 0, 0, ..., 0, 0, 1]), array([1, 0, 0, ..., 0, 0, 1]), array([1, 0, 0, ..., 1, 0, 1]), array([3, 2, 1, ..., 0, 0, 2]), array([1, 0, 0, ..., 0, 1, 1]), array([1, 0, 0, ..., 1, 1, 4]), array([1, 0, 0, ..., 0, 1, 1]), array([1, 0, 1, ..., 0, 0, 1]), array([1, 0, 1, ..., 1, 1, 1]), array([1, 0, 0, ..., 0, 0, 2]), array([1, 0, 0, ..., 0, 0, 1]), array([1, 0, 2, ..., 0, 0, 1]), array([1, 0, 0, ..., 0, 0, 1]), array([1, 0, 1, ..., 0, 0, 2]), array([1, 0, 0, ..., 0, 0, 1]), array([1, 0, 0, ..., 0, 0, 2]), array([2, 0, 0, ..., 0, 0, 2]), array([2, 1, 2, ..., 0, 0, 1]), array([2, 2, 0, ..., 0, 0, 1])]\n"
     ]
    }
   ],
   "source": [
    "# let's work with the third cell for now\n",
    "sps_list = []\n",
    "for i in range(0,26):\n",
    "    cell_idx = i\n",
    "    spike_times = all_spike_times[cell_idx]\n",
    "    # Print out some basic info\n",
    "    nlags = 20\n",
    "    nx = 10\n",
    "    ny = 10\n",
    "    npx = nx*ny\n",
    "    slen = stim.shape[0] #Number of time bins\n",
    "    sps, _ = np.histogram(spike_times, bins = slen) \n",
    "    sps_list.append(sps)\n",
    "print(sps_list)"
   ]
  },
  {
   "cell_type": "code",
   "execution_count": 8,
   "id": "0bdddadb",
   "metadata": {},
   "outputs": [
    {
     "name": "stdout",
     "output_type": "stream",
     "text": [
      "[1 1 0 ... 0 1 1]\n"
     ]
    }
   ],
   "source": [
    "#if a spike occurs, value is \n",
    "for sub_list in sps_list:\n",
    "    for i in range(0,len(sub_list)):\n",
    "        if sub_list[i] > 0:\n",
    "            sub_list[i] = 1\n",
    "print(sps_list[2])"
   ]
  },
  {
   "cell_type": "code",
   "execution_count": null,
   "id": "719da6f6",
   "metadata": {},
   "outputs": [],
   "source": []
  }
 ],
 "metadata": {
  "kernelspec": {
   "display_name": "Python 3 (ipykernel)",
   "language": "python",
   "name": "python3"
  },
  "language_info": {
   "codemirror_mode": {
    "name": "ipython",
    "version": 3
   },
   "file_extension": ".py",
   "mimetype": "text/x-python",
   "name": "python",
   "nbconvert_exporter": "python",
   "pygments_lexer": "ipython3",
   "version": "3.9.5"
  }
 },
 "nbformat": 4,
 "nbformat_minor": 5
}
